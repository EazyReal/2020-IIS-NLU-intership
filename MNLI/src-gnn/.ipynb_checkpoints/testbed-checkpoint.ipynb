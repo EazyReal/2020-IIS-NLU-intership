{
 "cells": [
  {
   "cell_type": "markdown",
   "metadata": {},
   "source": [
    "# Usage Data Stage 2, Parsed Data + WE to Pytorch Geometric data batch!"
   ]
  },
  {
   "cell_type": "code",
   "execution_count": 266,
   "metadata": {},
   "outputs": [
    {
     "name": "stdout",
     "output_type": "stream",
     "text": [
      "The autoreload extension is already loaded. To reload it, use:\n",
      "  %reload_ext autoreload\n"
     ]
    }
   ],
   "source": [
    "%load_ext autoreload\n",
    "%autoreload 2\n",
    "## util\n",
    "import os\n",
    "import logging\n",
    "from argparse import ArgumentParser\n",
    "from tqdm import tqdm_notebook as tqdmnb\n",
    "from tqdm import tqdm as tqdm\n",
    "import pickle\n",
    "import json \n",
    "import jsonlines as jsonl\n",
    "## graph\n",
    "import networkx as nx\n",
    "import matplotlib.pyplot as plt\n",
    "## nn\n",
    "import numpy as np\n",
    "import torch\n",
    "from torch_geometric.utils.convert import to_networkx\n",
    "from torch_geometric.data.data import Data\n",
    "from torch_geometric.data import DataLoader\n",
    "## model\n",
    "import stanza\n",
    "from stanza.models.common.doc import Document\n",
    "\n",
    "## self\n",
    "import config\n",
    "from config import nli_config \n",
    "import utils\n",
    "from model import *"
   ]
  },
  {
   "cell_type": "code",
   "execution_count": null,
   "metadata": {},
   "outputs": [],
   "source": [
    "glove_data = utils.load_glove_vector()\n",
    "glove, words, word2idx, idx = glove_data"
   ]
  },
  {
   "cell_type": "code",
   "execution_count": 103,
   "metadata": {},
   "outputs": [
    {
     "name": "stdout",
     "output_type": "stream",
     "text": [
      "1917496\n"
     ]
    }
   ],
   "source": [
    "print(idx)"
   ]
  },
  {
   "cell_type": "code",
   "execution_count": 70,
   "metadata": {},
   "outputs": [
    {
     "name": "stderr",
     "output_type": "stream",
     "text": [
      "2020-08-04 18:36:17 WARNING: Can not find mwt: default from official model list. Ignoring it.\n",
      "2020-08-04 18:36:17 INFO: Loading these models for language: en (English):\n",
      "=======================\n",
      "| Processor | Package |\n",
      "-----------------------\n",
      "| tokenize  | ewt     |\n",
      "| pos       | ewt     |\n",
      "| lemma     | ewt     |\n",
      "| depparse  | ewt     |\n",
      "=======================\n",
      "\n",
      "2020-08-04 18:36:17 INFO: Use device: gpu\n",
      "2020-08-04 18:36:17 INFO: Loading: tokenize\n",
      "2020-08-04 18:36:17 INFO: Loading: pos\n",
      "2020-08-04 18:36:18 INFO: Loading: lemma\n",
      "2020-08-04 18:36:19 INFO: Loading: depparse\n",
      "2020-08-04 18:36:20 INFO: Done loading processors!\n"
     ]
    }
   ],
   "source": [
    "nlp = stanza.Pipeline(lang='en', processors='tokenize,mwt,pos,lemma,depparse')"
   ]
  },
  {
   "cell_type": "code",
   "execution_count": 2,
   "metadata": {},
   "outputs": [
    {
     "data": {
      "text/plain": [
       "PosixPath('/work/2020-IIS-NLU-internship/MNLI/data/MNLI_Stanza/pre_multinli_1.0_dev_matched.jsonl')"
      ]
     },
     "execution_count": 2,
     "metadata": {},
     "output_type": "execute_result"
    }
   ],
   "source": [
    "config.PDEV_MA_FILE"
   ]
  },
  {
   "cell_type": "code",
   "execution_count": 20,
   "metadata": {},
   "outputs": [],
   "source": [
    "with open(config.PDEV_MA_FILE, \"r\") as fo:\n",
    "    dataset = fo.readlines()\n",
    "    dataset = [utils.json.loads(raw_data) for raw_data in dataset]"
   ]
  },
  {
   "cell_type": "code",
   "execution_count": 23,
   "metadata": {},
   "outputs": [],
   "source": [
    "exp1 = dataset[0]"
   ]
  },
  {
   "cell_type": "code",
   "execution_count": 24,
   "metadata": {},
   "outputs": [],
   "source": [
    "h1 = exp1[config.hf]"
   ]
  },
  {
   "cell_type": "code",
   "execution_count": 31,
   "metadata": {},
   "outputs": [
    {
     "data": {
      "text/plain": [
       "dict_keys(['id', 'text', 'lemma', 'upos', 'xpos', 'feats', 'head', 'deprel', 'misc'])"
      ]
     },
     "execution_count": 31,
     "metadata": {},
     "output_type": "execute_result"
    }
   ],
   "source": [
    "h1[0][0].keys()"
   ]
  },
  {
   "cell_type": "code",
   "execution_count": 35,
   "metadata": {},
   "outputs": [
    {
     "name": "stdout",
     "output_type": "stream",
     "text": [
      "1 nsubj 3\n"
     ]
    }
   ],
   "source": [
    "print(h1[0][0]['id'], h1[0][0]['deprel'], h1[0][0]['head'])"
   ]
  },
  {
   "cell_type": "code",
   "execution_count": 36,
   "metadata": {},
   "outputs": [
    {
     "name": "stdout",
     "output_type": "stream",
     "text": [
      "{'id': '1', 'text': 'Everyone', 'lemma': 'everyone', 'upos': 'PRON', 'xpos': 'NN', 'feats': 'Number=Sing', 'head': 3, 'deprel': 'nsubj', 'misc': 'start_char=0|end_char=8'}\n"
     ]
    }
   ],
   "source": [
    "print(h1[0][0])"
   ]
  },
  {
   "cell_type": "code",
   "execution_count": 45,
   "metadata": {},
   "outputs": [
    {
     "name": "stdout",
     "output_type": "stream",
     "text": [
      "('Everyone', '3', 'nsubj')\n",
      "('really', '3', 'advmod')\n",
      "('likes', '0', 'root')\n",
      "('the', '6', 'det')\n",
      "('newest', '6', 'amod')\n",
      "('benefits', '3', 'obj')\n"
     ]
    }
   ],
   "source": [
    "Document(h1).sentences[0].print_dependencies()"
   ]
  },
  {
   "cell_type": "code",
   "execution_count": 49,
   "metadata": {},
   "outputs": [],
   "source": [
    "doc1 = Document(h1)"
   ]
  },
  {
   "cell_type": "code",
   "execution_count": 56,
   "metadata": {},
   "outputs": [],
   "source": [
    "# old version parse + build graph at the same time\n",
    "def doc2graph(doc, word2idx=None):\n",
    "    \"\"\"\n",
    "    2020/8/4 18:30\n",
    "    input Stanza Document : doc\n",
    "    output PytorchGeoData : G\n",
    "    G = {\n",
    "     x: id tensor\n",
    "     edge_idx : edges size = (2, l-1)\n",
    "     edge_attr: (u, v, edge_type in str)\n",
    "     node_attr: text\n",
    "    }\n",
    "    \"\"\"\n",
    "    # add root token for each sentences\n",
    "    e = [[],[]]\n",
    "    edge_info = []\n",
    "    node_info = []\n",
    "    prev_token_sum = 0\n",
    "    prev_root_id = 0\n",
    "    cur_root_id = 0\n",
    "    # get original dependency\n",
    "    for idx, sent in enumerate(doc.sentences):\n",
    "        sent.print_dependencies\n",
    "        # node info by index(add root at the beginning of every sentence)\n",
    "        cur_root_id = len(node_info)\n",
    "        node_info.append(\"[ROOT]\")\n",
    "        for token in sent.tokens:\n",
    "            node_info.append(token.to_dict()[0]['text'])\n",
    "        # edge info by index of u in edge (u,v)\n",
    "        for dep in sent.dependencies:\n",
    "            id1 = prev_token_sum + int(dep[0].to_dict()[\"id\"])\n",
    "            id2 = prev_token_sum + int(dep[2].to_dict()[\"id\"])\n",
    "            e[0].append(id1)\n",
    "            e[1].append(id2)\n",
    "            edge_info.append((id1, id2, dep[1]))\n",
    "        prev_token_sum += len(sent.tokens)+1\n",
    "        # add links between sentence roots\n",
    "        if(cur_root_id != 0):\n",
    "            id1 = prev_root_id\n",
    "            id2 = cur_root_id\n",
    "            e[0].append(id1)\n",
    "            e[1].append(id2)\n",
    "            edge_info.append((id1, id2, \"bridge\"))\n",
    "        prev_root_id = cur_root_id\n",
    "    # id to embeddings\n",
    "    # x = torch.tensor([ for token in node_attr])\n",
    "    # done building edges and nodes\n",
    "    if word2idx == None:\n",
    "        x = torch.tensor(list(range(doc.num_tokens+len(doc.sentences))))\n",
    "    else:\n",
    "        x = torch.tensor([ word2idx[token] if token in word2idx.keys() else word2idx[\"[UNK]\"] for token in node_info])\n",
    "    e = torch.tensor(e)\n",
    "    G = Data(x=x, edge_index=e, edge_attr=edge_info, node_attr=node_info)\n",
    "    return G"
   ]
  },
  {
   "cell_type": "code",
   "execution_count": 65,
   "metadata": {},
   "outputs": [
    {
     "data": {
      "text/plain": [
       "Data(edge_attr=[6], edge_index=[2, 6], node_attr=[7], x=[7])"
      ]
     },
     "execution_count": 65,
     "metadata": {},
     "output_type": "execute_result"
    }
   ],
   "source": [
    "g1 = utils.doc2graph(doc1)\n",
    "g1"
   ]
  },
  {
   "cell_type": "code",
   "execution_count": 62,
   "metadata": {},
   "outputs": [
    {
     "data": {
      "text/plain": [
       "[(3, 1, 'nsubj'),\n",
       " (3, 2, 'advmod'),\n",
       " (0, 3, 'root'),\n",
       " (6, 4, 'det'),\n",
       " (6, 5, 'amod'),\n",
       " (3, 6, 'obj')]"
      ]
     },
     "execution_count": 62,
     "metadata": {},
     "output_type": "execute_result"
    }
   ],
   "source": [
    "g1.edge_attr"
   ]
  },
  {
   "cell_type": "code",
   "execution_count": 66,
   "metadata": {},
   "outputs": [
    {
     "name": "stdout",
     "output_type": "stream",
     "text": [
      "[0, 1, 2, 3, 4, 5, 6]\n",
      "[(0, 3), (3, 1), (3, 2), (3, 6), (6, 4), (6, 5)]\n"
     ]
    },
    {
     "data": {
      "image/png": "[encoded data removed]",
      "text/plain": [
       "<Figure size 432x288 with 1 Axes>"
      ]
     },
     "metadata": {},
     "output_type": "display_data"
    }
   ],
   "source": [
    "utils.draw(g1)"
   ]
  },
  {
   "cell_type": "code",
   "execution_count": 67,
   "metadata": {},
   "outputs": [],
   "source": [
    "ANLI_example = \"Kwon So-hyun (born August 30, 1994), is a South Korean singer and actress. She was known as a member of the South Korean girl group 4Minute, under Cube Entertainment. She is also a former member of the South Korean girl group, Orange. Before June 15, 2016 (end of her contract with Cube), Sohyun left 4Minute and the record label along with members Nam Ji-hyun, Heo Ga-yoon, and Jeon Ji-yoon.\""
   ]
  },
  {
   "cell_type": "code",
   "execution_count": 78,
   "metadata": {},
   "outputs": [
    {
     "name": "stdout",
     "output_type": "stream",
     "text": [
      "[0, 1, 2, 3, 4, 5, 6, 7, 8, 9, 10, 11, 12, 13, 14, 15, 16, 17, 18, 19, 20, 21, 22, 23, 24, 25, 26, 27, 28, 29, 30, 31, 32, 33, 34, 35, 36, 37, 38, 39, 40, 41, 42, 43, 44, 45, 46, 47, 48, 49, 50, 51, 52, 53, 54, 55, 56, 57, 58, 59, 60, 61, 62, 63, 64, 65, 66, 67, 68, 69, 70, 71, 72, 73, 74, 75, 76, 77, 78, 79, 80, 81, 82, 83, 84, 85, 86, 87, 88, 89, 90, 91, 92, 93, 94]\n",
      "[(0, 15), (0, 19), (1, 2), (1, 4), (4, 3), (4, 5), (5, 6), (5, 7), (5, 8), (5, 9), (15, 1), (15, 10), (15, 11), (15, 12), (15, 13), (15, 14), (15, 17), (15, 18), (17, 16), (19, 22), (19, 39), (22, 20), (22, 21), (22, 25), (22, 38), (25, 23), (25, 24), (25, 31), (25, 34), (25, 37), (31, 26), (31, 27), (31, 28), (31, 29), (31, 30), (31, 33), (33, 32), (37, 35), (37, 36), (39, 45), (39, 55), (45, 40), (45, 41), (45, 42), (45, 43), (45, 44), (45, 51), (45, 54), (50, 49), (51, 46), (51, 47), (51, 48), (51, 50), (51, 52), (51, 53), (55, 71), (57, 56), (57, 58), (57, 59), (57, 60), (57, 62), (62, 61), (62, 65), (62, 68), (65, 63), (65, 64), (65, 67), (67, 66), (71, 57), (71, 69), (71, 70), (71, 73), (71, 80), (71, 94), (73, 72), (73, 77), (77, 74), (77, 75), (77, 76), (80, 78), (80, 79), (80, 81), (81, 82), (81, 84), (81, 85), (81, 87), (81, 90), (85, 83), (85, 86), (90, 88), (90, 89), (90, 91), (90, 92), (90, 93)]\n"
     ]
    },
    {
     "data": {
      "image/png": "[encoded data removed]",
      "text/plain": [
       "<Figure size 432x288 with 1 Axes>"
      ]
     },
     "metadata": {},
     "output_type": "display_data"
    }
   ],
   "source": [
    "g2 = utils.text2graph(ANLI_example, nlp)\n",
    "utils.draw(g2, node_size=100, font_size=5, save_img_file=\"anli_demo_graph\")"
   ]
  },
  {
   "cell_type": "code",
   "execution_count": 81,
   "metadata": {},
   "outputs": [],
   "source": [
    "import model"
   ]
  },
  {
   "cell_type": "code",
   "execution_count": 107,
   "metadata": {},
   "outputs": [
    {
     "data": {
      "text/plain": [
       "tensor(41.1199)"
      ]
     },
     "execution_count": 107,
     "metadata": {},
     "output_type": "execute_result"
    }
   ],
   "source": [
    "glove[word2idx[\"good\"]]@glove[word2idx[\"nice\"]]"
   ]
  },
  {
   "cell_type": "code",
   "execution_count": 105,
   "metadata": {},
   "outputs": [
    {
     "data": {
      "text/plain": [
       "tensor(37.2005)"
      ]
     },
     "execution_count": 105,
     "metadata": {},
     "output_type": "execute_result"
    }
   ],
   "source": [
    "glove[word2idx[\"good\"]]@glove[word2idx[\"bad\"]]"
   ]
  },
  {
   "cell_type": "markdown",
   "metadata": {},
   "source": [
    "# Complex Example for Data Batching"
   ]
  },
  {
   "cell_type": "code",
   "execution_count": 87,
   "metadata": {},
   "outputs": [],
   "source": [
    "class PairData(Data):\n",
    "    def __init__(self, edge_index_s, x_s, edge_index_t, x_t):\n",
    "        super(PairData, self).__init__()\n",
    "        self.edge_index_s = edge_index_s\n",
    "        self.x_s = x_s\n",
    "        self.edge_index_t = edge_index_t\n",
    "        self.x_t = x_t\n",
    "    def __inc__(self, key, value):\n",
    "        if key == 'edge_index_s':\n",
    "            return self.x_s.size(0)\n",
    "        if key == 'edge_index_t':\n",
    "            return self.x_t.size(0)\n",
    "        else:\n",
    "            return super(PairData, self).__inc__(key, value)"
   ]
  },
  {
   "cell_type": "code",
   "execution_count": 109,
   "metadata": {},
   "outputs": [
    {
     "name": "stdout",
     "output_type": "stream",
     "text": [
      "Batch(edge_index_s=[2, 8], edge_index_t=[2, 6], x_s=[10, 16], x_t=[8, 16])\n",
      "tensor([[0, 0, 0, 0, 5, 5, 5, 5],\n",
      "        [1, 2, 3, 4, 6, 7, 8, 9]])\n",
      "tensor([[0, 0, 0, 4, 4, 4],\n",
      "        [1, 2, 3, 5, 6, 7]])\n",
      "None\n"
     ]
    }
   ],
   "source": [
    "edge_index_s = torch.tensor([\n",
    "    [0, 0, 0, 0],\n",
    "    [1, 2, 3, 4],\n",
    "])\n",
    "x_s = torch.randn(5, 16)  # 5 nodes.\n",
    "edge_index_t = torch.tensor([\n",
    "    [0, 0, 0],\n",
    "    [1, 2, 3],\n",
    "])\n",
    "x_t = torch.randn(4, 16)  # 4 nodes.\n",
    "\n",
    "data = PairData(edge_index_s, x_s, edge_index_t, x_t)\n",
    "data_list = [data, data]\n",
    "loader = DataLoader(data_list, batch_size=2)\n",
    "batch = next(iter(loader))\n",
    "\n",
    "print(batch)\n",
    "print(batch.edge_index_s)\n",
    "print(batch.edge_index_t)\n",
    "print(batch.batch)"
   ]
  },
  {
   "cell_type": "code",
   "execution_count": 110,
   "metadata": {},
   "outputs": [
    {
     "name": "stdout",
     "output_type": "stream",
     "text": [
      "tensor([0, 0, 0, 0, 0, 1, 1, 1, 1, 1])\n"
     ]
    }
   ],
   "source": [
    "loader = DataLoader(data_list, batch_size=2, follow_batch=['x_s', 'x_t'])\n",
    "batch = next(iter(loader))\n",
    "print(batch.x_s_batch)"
   ]
  },
  {
   "cell_type": "markdown",
   "metadata": {},
   "source": [
    "# My Data Set"
   ]
  },
  {
   "cell_type": "code",
   "execution_count": 201,
   "metadata": {},
   "outputs": [],
   "source": [
    "class GraphData(Data):\n",
    "    \"\"\"\n",
    "    item is a raw json of parsed result\n",
    "    \"\"\"\n",
    "    def __init__(self, data, word2idx, tolower=True):\n",
    "        super(GraphData, self).__init__()\n",
    "        g_p = utils.doc2graph(Document(data[config.pf]))\n",
    "        g_h = utils.doc2graph(Document(data[config.hf]))\n",
    "        self.edge_index_p = g_p.edge_index\n",
    "        #print(g_p.node_attr)\n",
    "        self.x_p = torch.tensor([ word2idx[w.lower()] for w in g_p.node_attr], dtype=torch.long)\n",
    "        self.edge_index_h = g_h.edge_index\n",
    "        self.x_h = torch.tensor([ word2idx[w.lower()] for w in g_h.node_attr], dtype=torch.long)\n",
    "        self.label = data[config.lf]\n",
    "        self.pid = data[config.idf]\n",
    "    def __inc__(self, key, value):\n",
    "        if key == 'edge_index_p':\n",
    "            return self.x_p.size(0)\n",
    "        if key == 'edge_index_h':\n",
    "            return self.x_h.size(0)\n",
    "        else:\n",
    "            return super(PairData, self).__inc__(key, value)"
   ]
  },
  {
   "cell_type": "code",
   "execution_count": 198,
   "metadata": {},
   "outputs": [],
   "source": [
    "import data"
   ]
  },
  {
   "cell_type": "code",
   "execution_count": 182,
   "metadata": {},
   "outputs": [],
   "source": [
    "dev_jdata = data.load_jdata(data_file=config.PDEV_MA_FILE)\n",
    "test_jdata = data.load_jdata(data_file=config.PDEV_MMA_FILE)"
   ]
  },
  {
   "cell_type": "code",
   "execution_count": 183,
   "metadata": {},
   "outputs": [],
   "source": [
    "expdata = dev_jdata[0]"
   ]
  },
  {
   "cell_type": "code",
   "execution_count": 184,
   "metadata": {},
   "outputs": [],
   "source": [
    "from collections import defaultdict"
   ]
  },
  {
   "cell_type": "code",
   "execution_count": 185,
   "metadata": {},
   "outputs": [
    {
     "data": {
      "text/plain": [
       "0"
      ]
     },
     "execution_count": 185,
     "metadata": {},
     "output_type": "execute_result"
    }
   ],
   "source": [
    "dd = defaultdict(int)\n",
    "dd[\"why\"]"
   ]
  },
  {
   "cell_type": "code",
   "execution_count": 199,
   "metadata": {},
   "outputs": [],
   "source": [
    "gdata1 = GraphData(expdata, word2idx)"
   ]
  },
  {
   "cell_type": "code",
   "execution_count": 202,
   "metadata": {},
   "outputs": [
    {
     "name": "stdout",
     "output_type": "stream",
     "text": [
      "tensor([[3, 3, 6, 6, 6, 0],\n",
      "        [1, 2, 3, 4, 5, 6]]) tensor([[3, 3, 0, 6, 6, 3],\n",
      "        [1, 2, 3, 4, 5, 6]]) 1 63735n\n",
      "tensor([  0,   3,  57, 688,  26, 425, 401]) tensor([   1,    0,  154, 1044,    3, 3949, 1246])\n"
     ]
    }
   ],
   "source": [
    "print(gdata1.edge_index_p, gdata1.edge_index_h, gdata1.label, gdata1.pid)\n",
    "print(gdata1.x_p, gdata1.x_h)"
   ]
  },
  {
   "cell_type": "code",
   "execution_count": 204,
   "metadata": {},
   "outputs": [
    {
     "name": "stdout",
     "output_type": "stream",
     "text": [
      "['[ROOT]', 'Everyone', 'really', 'likes', 'the', 'newest', 'benefits']\n",
      "['[ROOT]', 'The', 'new', 'rights', 'are', 'nice', 'enough']\n"
     ]
    }
   ],
   "source": [
    "print(utils.doc2graph(expdata[config.hf]).node_attr)\n",
    "print(utils.doc2graph(expdata[config.pf]).node_attr)"
   ]
  },
  {
   "cell_type": "code",
   "execution_count": 150,
   "metadata": {},
   "outputs": [
    {
     "name": "stdout",
     "output_type": "stream",
     "text": [
      "[0, 1, 2, 3, 4, 5, 6]\n",
      "[(0, 6), (3, 1), (3, 2), (6, 3), (6, 4), (6, 5)]\n"
     ]
    },
    {
     "data": {
      "image/png": "[encoded data removed]",
      "text/plain": [
       "<Figure size 432x288 with 1 Axes>"
      ]
     },
     "metadata": {},
     "output_type": "display_data"
    },
    {
     "name": "stdout",
     "output_type": "stream",
     "text": [
      "None\n"
     ]
    }
   ],
   "source": [
    "utils.draw(utils.doc2graph(Document(expdata[config.pf])))\n",
    "print(Document(expdata[config.pf]).text)"
   ]
  },
  {
   "cell_type": "code",
   "execution_count": 232,
   "metadata": {},
   "outputs": [],
   "source": [
    "dev_data_set = [data.GraphData(item, word2idx) for item in dev_jdata]"
   ]
  },
  {
   "cell_type": "code",
   "execution_count": 243,
   "metadata": {},
   "outputs": [],
   "source": [
    "loader = DataLoader(dev_data_set, batch_size=3, follow_batch=['x_p', 'x_h'])"
   ]
  },
  {
   "cell_type": "code",
   "execution_count": 244,
   "metadata": {},
   "outputs": [],
   "source": [
    "batch = next(iter(loader))"
   ]
  },
  {
   "cell_type": "code",
   "execution_count": 245,
   "metadata": {},
   "outputs": [
    {
     "data": {
      "text/plain": [
       "tensor([0, 0, 0, 0, 0, 0, 0, 1, 1, 1, 1, 1, 1, 1, 1, 1, 1, 1, 1, 1, 1, 1, 1, 1,\n",
       "        1, 1, 2, 2, 2, 2, 2, 2, 2, 2, 2, 2, 2, 2, 2, 2, 2, 2, 2, 2, 2, 2, 2, 2,\n",
       "        2, 2, 2, 2, 2, 2, 2, 2])"
      ]
     },
     "execution_count": 245,
     "metadata": {},
     "output_type": "execute_result"
    }
   ],
   "source": [
    "batch.x_p_batch"
   ]
  },
  {
   "cell_type": "code",
   "execution_count": 246,
   "metadata": {},
   "outputs": [
    {
     "data": {
      "text/plain": [
       "tensor([1, 0, 2])"
      ]
     },
     "execution_count": 246,
     "metadata": {},
     "output_type": "execute_result"
    }
   ],
   "source": [
    "batch.label"
   ]
  },
  {
   "cell_type": "code",
   "execution_count": 247,
   "metadata": {},
   "outputs": [
    {
     "data": {
      "text/plain": [
       "['63735n', '91383c', '755e']"
      ]
     },
     "execution_count": 247,
     "metadata": {},
     "output_type": "execute_result"
    }
   ],
   "source": [
    "batch.pid"
   ]
  },
  {
   "cell_type": "code",
   "execution_count": 248,
   "metadata": {},
   "outputs": [
    {
     "name": "stdout",
     "output_type": "stream",
     "text": [
      "tensor([[ 3,  3,  6,  6,  6,  0,  9, 10,  7, 12, 10, 16, 16, 16, 12, 20, 20, 20,\n",
      "         12, 24, 24, 24, 20, 10, 31, 31, 31, 31, 26, 35, 35, 35, 31, 35, 38, 36,\n",
      "         42, 42, 42, 31, 42, 50, 48, 48, 48, 50, 50, 31, 52, 50, 54, 52, 54],\n",
      "        [ 1,  2,  3,  4,  5,  6,  8,  9, 10, 11, 12, 13, 14, 15, 16, 17, 18, 19,\n",
      "         20, 21, 22, 23, 24, 25, 27, 28, 29, 30, 31, 32, 33, 34, 35, 36, 37, 38,\n",
      "         39, 40, 41, 42, 43, 44, 45, 46, 47, 48, 49, 50, 51, 52, 53, 54, 55]])\n",
      "tensor([[ 3,  3,  0,  6,  6,  3, 11, 11, 11, 18, 11, 15, 15, 12, 18, 18,  7, 21,\n",
      "         21, 18, 18, 25, 23, 25, 30, 30, 30, 25, 35, 35, 35, 35, 25, 35, 38, 36,\n",
      "         38, 25],\n",
      "        [ 1,  2,  3,  4,  5,  6,  8,  9, 10, 11, 12, 13, 14, 15, 16, 17, 18, 19,\n",
      "         20, 21, 22, 24, 25, 26, 27, 28, 29, 30, 31, 32, 33, 34, 35, 36, 37, 38,\n",
      "         39, 40]])\n",
      "tensor([1, 0, 2])\n",
      "['63735n', '91383c', '755e']\n",
      "tensor([    0,     3,    57,   688,    26,   425,   401,     0,    24,   213,\n",
      "          707,     8,   300,     7,    41,  1438,  3988,     5,     8, 16825,\n",
      "         1539,     7,   403,  1576,  1047,     4,     0,  7408,    14,    48,\n",
      "           47,   118,    14,    14,    31,  2705,  5420,    56,   160,  7408,\n",
      "          889,    14,    67,   160,    39,    27,     3,   195,   281,    14,\n",
      "          147,     6,   109,  3653,  1594,   160])\n",
      "tensor([    0,   522,   154,  1044,     3,  3949,  1246,     0,     3,   403,\n",
      "         1576,  1047, 12915,    20,     3,   335,    26,    35,   373,     6,\n",
      "           29,  6390,     4,     0,    14,    67,   160,    12,     3,   116,\n",
      "          187,     2,    39,    77,   181,   677,  1554,   455,  1594,   160,\n",
      "            4])\n",
      "tensor([0, 0, 0, 0, 0, 0, 0, 1, 1, 1, 1, 1, 1, 1, 1, 1, 1, 1, 1, 1, 1, 1, 1, 1,\n",
      "        1, 1, 2, 2, 2, 2, 2, 2, 2, 2, 2, 2, 2, 2, 2, 2, 2, 2, 2, 2, 2, 2, 2, 2,\n",
      "        2, 2, 2, 2, 2, 2, 2, 2])\n",
      "tensor([0, 0, 0, 0, 0, 0, 0, 1, 1, 1, 1, 1, 1, 1, 1, 1, 1, 1, 1, 1, 1, 1, 1, 2,\n",
      "        2, 2, 2, 2, 2, 2, 2, 2, 2, 2, 2, 2, 2, 2, 2, 2, 2])\n"
     ]
    }
   ],
   "source": [
    "# try a batch\n",
    "print(batch.edge_index_p, batch.edge_index_h, batch.label, batch.pid, sep='\\n')\n",
    "print(batch.x_p, batch.x_h, sep='\\n')\n",
    "print(batch.x_p_batch, batch.x_h_batch, sep='\\n')"
   ]
  },
  {
   "cell_type": "code",
   "execution_count": 251,
   "metadata": {},
   "outputs": [],
   "source": [
    "obj = type('',(object,),{\"foo\": 1})()"
   ]
  },
  {
   "cell_type": "code",
   "execution_count": 253,
   "metadata": {},
   "outputs": [
    {
     "data": {
      "text/plain": [
       "1"
      ]
     },
     "execution_count": 253,
     "metadata": {},
     "output_type": "execute_result"
    }
   ],
   "source": [
    "obj.foo"
   ]
  },
  {
   "cell_type": "code",
   "execution_count": 254,
   "metadata": {},
   "outputs": [
    {
     "data": {
      "text/plain": [
       "__main__."
      ]
     },
     "execution_count": 254,
     "metadata": {},
     "output_type": "execute_result"
    }
   ],
   "source": [
    "type(obj)"
   ]
  },
  {
   "cell_type": "code",
   "execution_count": 277,
   "metadata": {},
   "outputs": [
    {
     "data": {
      "text/plain": [
       "300"
      ]
     },
     "execution_count": 277,
     "metadata": {},
     "output_type": "execute_result"
    }
   ],
   "source": [
    "config.nli_config.hidden_size"
   ]
  },
  {
   "cell_type": "code",
   "execution_count": 278,
   "metadata": {},
   "outputs": [],
   "source": [
    "import config"
   ]
  },
  {
   "cell_type": "code",
   "execution_count": 279,
   "metadata": {},
   "outputs": [
    {
     "data": {
      "text/plain": [
       "'glove300d'"
      ]
     },
     "execution_count": 279,
     "metadata": {},
     "output_type": "execute_result"
    }
   ],
   "source": [
    "nli_config.embedding"
   ]
  },
  {
   "cell_type": "code",
   "execution_count": null,
   "metadata": {},
   "outputs": [],
   "source": []
  }
 ],
 "metadata": {
  "kernelspec": {
   "display_name": "Python 3",
   "language": "python",
   "name": "python3"
  },
  "language_info": {
   "codemirror_mode": {
    "name": "ipython",
    "version": 3
   },
   "file_extension": ".py",
   "mimetype": "text/x-python",
   "name": "python",
   "nbconvert_exporter": "python",
   "pygments_lexer": "ipython3",
   "version": "3.7.7"
  }
 },
 "nbformat": 4,
 "nbformat_minor": 4
}
