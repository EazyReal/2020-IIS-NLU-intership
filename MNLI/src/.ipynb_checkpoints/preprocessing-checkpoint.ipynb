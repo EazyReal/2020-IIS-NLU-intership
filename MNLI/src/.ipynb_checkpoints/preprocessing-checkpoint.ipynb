{
 "cells": [
  {
   "cell_type": "code",
   "execution_count": 52,
   "metadata": {},
   "outputs": [
    {
     "name": "stdout",
     "output_type": "stream",
     "text": [
      "The autoreload extension is already loaded. To reload it, use:\n",
      "  %reload_ext autoreload\n"
     ]
    }
   ],
   "source": [
    "%load_ext autoreload"
   ]
  },
  {
   "cell_type": "code",
   "execution_count": 53,
   "metadata": {},
   "outputs": [],
   "source": [
    "%autoreload 2"
   ]
  },
  {
   "cell_type": "code",
   "execution_count": 54,
   "metadata": {},
   "outputs": [],
   "source": [
    "## self\n",
    "import config\n",
    "from preprocess import *\n",
    "from model import *\n",
    "from utils import *\n",
    "\n",
    "from transformers import BertModel\n",
    "import torch.nn as nn\n",
    "import math # for sqrt"
   ]
  },
  {
   "cell_type": "code",
   "execution_count": 55,
   "metadata": {},
   "outputs": [
    {
     "name": "stdout",
     "output_type": "stream",
     "text": [
      "/work/2020-IIS-NLU-internship/MNLI/data/multinli_1.0/multinli_1.0_dev_matched.jsonl\n"
     ]
    }
   ],
   "source": [
    "dev_path = config.DEV_MA_FILE\n",
    "print(dev_path)"
   ]
  },
  {
   "cell_type": "code",
   "execution_count": 56,
   "metadata": {},
   "outputs": [],
   "source": [
    "tokenizer = BertTokenizer.from_pretrained(config.BERT_EMBEDDING) # for tensor to sent usage"
   ]
  },
  {
   "cell_type": "code",
   "execution_count": 57,
   "metadata": {},
   "outputs": [
    {
     "name": "stdout",
     "output_type": "stream",
     "text": [
      "9815\n"
     ]
    }
   ],
   "source": [
    "dev_set = MNLI_Raw_Dataset(dev_path, mode=\"develop\")\n",
    "print(len(dev_set))"
   ]
  },
  {
   "cell_type": "code",
   "execution_count": 58,
   "metadata": {},
   "outputs": [],
   "source": [
    "# how to create batch for graph???"
   ]
  },
  {
   "cell_type": "code",
   "execution_count": 59,
   "metadata": {},
   "outputs": [],
   "source": [
    "dev_loader = DataLoader(\n",
    "    dataset=dev_set, \n",
    "    batch_size=config.BATCH_SIZE,\n",
    "    shuffle=True,  \n",
    "    collate_fn=create_mini_batch\n",
    ")\n",
    "if config.DEBUG:\n",
    "    #print(next(iter(dev_loader)))\n",
    "    pass"
   ]
  },
  {
   "cell_type": "code",
   "execution_count": 60,
   "metadata": {},
   "outputs": [
    {
     "name": "stdout",
     "output_type": "stream",
     "text": [
      "[CLS] i work at boeing instead of ti . [SEP] [PAD] [PAD] [PAD] [PAD] [PAD] [PAD] [PAD] [PAD] [PAD] [PAD]\n",
      "<class 'torch.Tensor'>\n"
     ]
    }
   ],
   "source": [
    "if config.DEBUG:\n",
    "    print(tensor_to_sent(next(iter(dev_loader))[config.h_field]['input_ids'][0], tokenizer))\n",
    "    print(type(next(iter(dev_loader))[config.h_field]['input_ids'][0]))"
   ]
  },
  {
   "cell_type": "code",
   "execution_count": 61,
   "metadata": {},
   "outputs": [
    {
     "name": "stdout",
     "output_type": "stream",
     "text": [
      "unkown bert model choice, init with config.BERT_EMBEDDING\n"
     ]
    }
   ],
   "source": [
    "model = CrossBERTModel()"
   ]
  },
  {
   "cell_type": "code",
   "execution_count": 108,
   "metadata": {},
   "outputs": [],
   "source": [
    "test_batch = next(iter(dev_loader))"
   ]
  },
  {
   "cell_type": "code",
   "execution_count": 109,
   "metadata": {},
   "outputs": [
    {
     "name": "stdout",
     "output_type": "stream",
     "text": [
      "8\n",
      "18\n",
      "8\n",
      "56\n"
     ]
    }
   ],
   "source": [
    "print(len(test_batch[config.h_field][\"input_ids\"]))\n",
    "print(len(test_batch[config.h_field][\"input_ids\"][5]))\n",
    "print(len(test_batch[config.p_field][\"input_ids\"]))\n",
    "print(len(test_batch[config.p_field][\"input_ids\"][5]))"
   ]
  },
  {
   "cell_type": "code",
   "execution_count": 110,
   "metadata": {},
   "outputs": [
    {
     "data": {
      "text/plain": [
       "(tensor(nan, grad_fn=<BinaryCrossEntropyWithLogitsBackward>),\n",
       " tensor([[nan, nan, nan],\n",
       "         [nan, nan, nan],\n",
       "         [nan, nan, nan],\n",
       "         [nan, nan, nan],\n",
       "         [nan, nan, nan],\n",
       "         [nan, nan, nan],\n",
       "         [nan, nan, nan],\n",
       "         [nan, nan, nan]], grad_fn=<SqueezeBackward1>))"
      ]
     },
     "execution_count": 110,
     "metadata": {},
     "output_type": "execute_result"
    }
   ],
   "source": [
    "model._predict_score(test_batch)\n",
    "model(test_batch)"
   ]
  },
  {
   "cell_type": "code",
   "execution_count": 116,
   "metadata": {},
   "outputs": [
    {
     "data": {
      "text/plain": [
       "[0, 0, 0, 0, 0, 0, 0, 0]"
      ]
     },
     "execution_count": 116,
     "metadata": {},
     "output_type": "execute_result"
    }
   ],
   "source": [
    "p = model._predict(test_batch).numpy().tolist()\n",
    "p2 = [1,0,2,0,0,0,0]"
   ]
  },
  {
   "cell_type": "code",
   "execution_count": 117,
   "metadata": {},
   "outputs": [],
   "source": [
    "from sklearn import metrics"
   ]
  },
  {
   "cell_type": "code",
   "execution_count": null,
   "metadata": {},
   "outputs": [],
   "source": [
    "metrics.confusion_matrix()"
   ]
  }
 ],
 "metadata": {
  "kernelspec": {
   "display_name": "Python 3",
   "language": "python",
   "name": "python3"
  },
  "language_info": {
   "codemirror_mode": {
    "name": "ipython",
    "version": 3
   },
   "file_extension": ".py",
   "mimetype": "text/x-python",
   "name": "python",
   "nbconvert_exporter": "python",
   "pygments_lexer": "ipython3",
   "version": "3.7.7"
  }
 },
 "nbformat": 4,
 "nbformat_minor": 4
}
